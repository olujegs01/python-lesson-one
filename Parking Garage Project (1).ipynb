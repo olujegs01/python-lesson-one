{
 "cells": [
  {
   "cell_type": "markdown",
   "metadata": {},
   "source": [
    "# Parking Garage Project\n",
    "\n",
    "Your assignment for today is to create a parking garage class to get more familiar with Object Oriented Programming(OOP). \n",
    "\n",
    "Your parking gargage class should have the following methods:\n",
    "- takeTicket\n",
    "   - This should decrease the amount of tickets available by 1\n",
    "   - This should decrease the amount of parkingSpaces available by 1\n",
    "- payForParking\n",
    "   - Display an input that waits for an amount from the user and store it in a variable\n",
    "   - If the payment variable is not empty then ->  display a message to the user that their ticket has been paid and they have 15mins to leave\n",
    "   - This should update the \"currentTicket\" dictionary key \"paid\" to True\n",
    "-leaveGarage\n",
    "   - If the ticket has been paid, display a message of \"Thank You, have a nice day\"\n",
    "   - If the ticket has not been paid, display an input prompt for payment\n",
    "      - Once paid, display message \"Thank you, have a nice day!\"\n",
    "   - Update parkingSpaces list to increase by 1\n",
    "   - Update tickets list to increase by 1\n",
    "\n",
    "You will need a few attributes as well:\n",
    "- tickets -> list\n",
    "- parkingSpaces -> list\n",
    "- currentTicket -> dictionary"
   ]
  },
  {
   "cell_type": "code",
   "execution_count": null,
   "metadata": {},
   "outputs": [],
   "source": [
    "class ParkingGarage:\n",
    "    def __init__(self, total_spaces):\n",
    "        self.tickets = [i for i in range(1, total_spaces + 1)] \n",
    "        self.parking_spaces = [i for i in range(1, total_spaces + 1)] \n",
    "        self.current_ticket = {}  \n",
    "\n",
    "    def takeTicket(self):\n",
    "        if self.tickets:\n",
    "            ticket = self.tickets.pop(0)  \n",
    "            space = self.parking_spaces.pop(0)  \n",
    "            self.current_ticket[ticket] = {\"paid\": False, \"space\": space}  \n",
    "            print(f\"Ticket {ticket} has been issued. Parking space {space} is allocated.\")\n",
    "        else:\n",
    "            print(\"Sorry, the parking garage is full.\")\n",
    "\n",
    "    def payForParking(self, ticket):\n",
    "        if ticket in self.current_ticket and not self.current_ticket[ticket][\"paid\"]:\n",
    "            amount = input(\"Please enter the amount to pay: \")\n",
    "            if amount:\n",
    "                print(\"Your ticket has been paid. You have 15 minutes to leave.\")\n",
    "                self.current_ticket[ticket][\"paid\"] = True\n",
    "            else:\n",
    "                print(\"Payment cannot be empty.\")\n",
    "        else:\n",
    "            print(\"Invalid ticket number or ticket already paid.\")\n",
    "\n",
    "    def leaveGarage(self, ticket):\n",
    "        if ticket in self.current_ticket:\n",
    "            if self.current_ticket[ticket][\"paid\"]:\n",
    "                print(\"Thank you, have a nice day!\")\n",
    "                self.parking_spaces.append(self.current_ticket[ticket][\"space\"])  \n",
    "                self.tickets.append(ticket)  \n",
    "                del self.current_ticket[ticket]  \n",
    "            else:\n",
    "                print(\"Please pay for parking before leaving.\")\n",
    "        else:\n",
    "            print(\"Invalid ticket number.\")\n",
    "\n",
    "\n"
   ]
  },
  {
   "cell_type": "code",
   "execution_count": null,
   "metadata": {},
   "outputs": [],
   "source": [
    "11"
   ]
  },
  {
   "cell_type": "code",
   "execution_count": null,
   "metadata": {},
   "outputs": [],
   "source": []
  }
 ],
 "metadata": {
  "kernelspec": {
   "display_name": "Python 3 (ipykernel)",
   "language": "python",
   "name": "python3"
  },
  "language_info": {
   "codemirror_mode": {
    "name": "ipython",
    "version": 3
   },
   "file_extension": ".py",
   "mimetype": "text/x-python",
   "name": "python",
   "nbconvert_exporter": "python",
   "pygments_lexer": "ipython3",
   "version": "3.11.7"
  }
 },
 "nbformat": 4,
 "nbformat_minor": 2
}
